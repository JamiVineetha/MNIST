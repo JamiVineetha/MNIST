{
 "cells": [
  {
   "cell_type": "code",
   "execution_count": 14,
   "id": "fe159f60-c8f9-4c83-973f-7c214fa723fd",
   "metadata": {},
   "outputs": [],
   "source": [
    "import torch as t\n",
    "import torch.nn as nn\n",
    "import torch.optim as optim\n",
    "from torch.utils.data import DataLoader\n",
    "from torchvision import datasets, transforms\n",
    "device = 'cuda' if t.cuda.is_available() else 'cpu'"
   ]
  },
  {
   "cell_type": "code",
   "execution_count": 2,
   "id": "f0694c53-4ef5-4b51-82d1-ff9e9652ecca",
   "metadata": {},
   "outputs": [],
   "source": [
    "# Defining data transformations\n",
    "transform = transforms.Compose([transforms.ToTensor(), transforms.Normalize((0.5,), (0.5,))])"
   ]
  },
  {
   "cell_type": "code",
   "execution_count": 3,
   "id": "58872e0f-6545-4c83-9499-2431f0ecb37d",
   "metadata": {
    "scrolled": true
   },
   "outputs": [],
   "source": [
    "# Loading the MNIST training dataset\n",
    "train_dataset = datasets.MNIST(root='./data', train=True, transform=transform, download=True)"
   ]
  },
  {
   "cell_type": "code",
   "execution_count": 4,
   "id": "b38408e2-6485-46ef-a229-1bf7edfb09d1",
   "metadata": {},
   "outputs": [
    {
     "name": "stdout",
     "output_type": "stream",
     "text": [
      "Total number of training samples: 60000\n"
     ]
    }
   ],
   "source": [
    "#length of the training dataset\n",
    "num_samples = len(train_dataset)\n",
    "print(\"Total number of training samples:\", num_samples)"
   ]
  },
  {
   "cell_type": "code",
   "execution_count": 5,
   "id": "b5ec4699-af0a-4e24-8fc0-7d2fa5619295",
   "metadata": {},
   "outputs": [],
   "source": [
    "# Creating DataLoader for the training dataset\n",
    "batch_size = 64\n",
    "train_loader = DataLoader(train_dataset, batch_size=batch_size, shuffle=False)"
   ]
  },
  {
   "cell_type": "code",
   "execution_count": 6,
   "id": "206bb54f-c568-40ff-bd5e-393723cc3bfa",
   "metadata": {},
   "outputs": [],
   "source": [
    "train = enumerate(train_loader)\n",
    "batch_idx, (input, label) = next(train)"
   ]
  },
  {
   "cell_type": "code",
   "execution_count": 7,
   "id": "610907fd-1ce9-4fb9-bb96-7ed85a62e680",
   "metadata": {},
   "outputs": [
    {
     "data": {
      "text/plain": [
       "torch.Size([64, 1, 28, 28])"
      ]
     },
     "execution_count": 7,
     "metadata": {},
     "output_type": "execute_result"
    }
   ],
   "source": [
    "input.shape"
   ]
  },
  {
   "cell_type": "code",
   "execution_count": 8,
   "id": "3bf9ff4b-4b71-435f-b16f-fe0e9c0268c5",
   "metadata": {},
   "outputs": [
    {
     "data": {
      "text/plain": [
       "torch.Size([64])"
      ]
     },
     "execution_count": 8,
     "metadata": {},
     "output_type": "execute_result"
    }
   ],
   "source": [
    "label.shape"
   ]
  },
  {
   "cell_type": "code",
   "execution_count": 19,
   "id": "b088a1c9-b5c3-4f16-8bc5-4c87fc6b0b46",
   "metadata": {},
   "outputs": [],
   "source": [
    "testset = datasets.MNIST('mnist_data/', download=True, train=False, transform=transform)"
   ]
  },
  {
   "cell_type": "code",
   "execution_count": 20,
   "id": "617cc969-66ea-4928-91ab-0252b0a8c2be",
   "metadata": {},
   "outputs": [],
   "source": [
    "test_loader = DataLoader(testset, batch_size = batch_size, shuffle=False)"
   ]
  },
  {
   "cell_type": "code",
   "execution_count": 21,
   "id": "5e30dedc-9eed-429f-abca-1f58c3ca0f39",
   "metadata": {},
   "outputs": [],
   "source": [
    "class Mnist(nn.Module):\n",
    "    def __init__(self):\n",
    "        super(Mnist,self).__init__()\n",
    "        self.linear1 = nn.Linear(784, 64) \n",
    "        self.linear2 = nn.Linear(64, 32) \n",
    "        self.final = nn.Linear(32, 10)\n",
    "        self.relu = nn.ReLU()\n",
    "\n",
    "    def forward(self, img):\n",
    "        x = img.view(-1, 784)\n",
    "        x = self.relu(self.linear1(x))\n",
    "        x = self.relu(self.linear2(x))\n",
    "        x = self.final(x)\n",
    "        return x\n",
    "mnist = Mnist()"
   ]
  },
  {
   "cell_type": "code",
   "execution_count": 22,
   "id": "464597c5-e82c-432f-b7c6-e1b246880d53",
   "metadata": {},
   "outputs": [
    {
     "name": "stdout",
     "output_type": "stream",
     "text": [
      "Epoch 1, Loss: 0.00020782400105299472\n",
      "Epoch 2, Loss: 9.822820041225409e-05\n",
      "Epoch 3, Loss: 5.6247864323638396e-05\n",
      "Epoch 4, Loss: 4.843429429953032e-05\n",
      "Epoch 5, Loss: 2.9373504936313832e-05\n",
      "Epoch 6, Loss: 1.714766017600163e-05\n",
      "Epoch 7, Loss: 1.2806025959217727e-05\n",
      "Epoch 8, Loss: 1.1264384269460177e-05\n",
      "Epoch 9, Loss: 1.1545109516903281e-05\n",
      "Epoch 10, Loss: 1.5633473637452257e-05\n"
     ]
    }
   ],
   "source": [
    "cross_el = nn.CrossEntropyLoss()\n",
    "optimizer = t.optim.Adam(mnist.parameters(), lr=0.001)\n",
    "epoch = 10\n",
    "\n",
    "for epoch in range(epoch):\n",
    "    for data in train_loader:\n",
    "        x, y = data\n",
    "        optimizer.zero_grad()\n",
    "        output = mnist(x.view(-1, 28 * 28) )\n",
    "        loss = cross_el(output, y)\n",
    "        loss.backward()\n",
    "        optimizer.step()\n",
    "    print(f\"Epoch {epoch+1}, Loss: {loss.item() / len(train_loader)}\")"
   ]
  },
  {
   "cell_type": "code",
   "execution_count": 23,
   "id": "1c520b7e-6802-4fc9-8d6f-ac2d0b6c9ad5",
   "metadata": {},
   "outputs": [
    {
     "name": "stdout",
     "output_type": "stream",
     "text": [
      "accuracy: 96.5 \n"
     ]
    }
   ],
   "source": [
    "correct = 0\n",
    "total = 0\n",
    "with t.no_grad():\n",
    "    for data in test_loader:\n",
    "        x, y = data\n",
    "        output = mnist(x.view(-1, 28 * 28))\n",
    "        for idx, i in enumerate(output):\n",
    "            if t.argmax(i) == y[idx]:\n",
    "                correct +=1\n",
    "            total +=1\n",
    "print(f'accuracy: {round(correct/total, 3) * 100} ')"
   ]
  },
  {
   "cell_type": "code",
   "execution_count": null,
   "id": "2588ae26-59b0-46b0-b712-cecff3e489a0",
   "metadata": {},
   "outputs": [],
   "source": []
  }
 ],
 "metadata": {
  "kernelspec": {
   "display_name": "Python 3 (ipykernel)",
   "language": "python",
   "name": "python3"
  },
  "language_info": {
   "codemirror_mode": {
    "name": "ipython",
    "version": 3
   },
   "file_extension": ".py",
   "mimetype": "text/x-python",
   "name": "python",
   "nbconvert_exporter": "python",
   "pygments_lexer": "ipython3",
   "version": "3.10.12"
  }
 },
 "nbformat": 4,
 "nbformat_minor": 5
}
